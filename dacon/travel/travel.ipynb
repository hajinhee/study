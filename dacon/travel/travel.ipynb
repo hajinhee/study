{
 "cells": [
  {
   "cell_type": "code",
   "execution_count": 171,
   "metadata": {},
   "outputs": [],
   "source": [
    "import pandas as pd\n",
    "import numpy as np\n",
    "import matplotlib.pyplot as plt\n",
    "import seaborn as sns\n",
    "from sklearn.preprocessing import RobustScaler\n",
    "from sklearn.model_selection import StratifiedKFold  \n",
    "from sklearn.model_selection import train_test_split\n",
    "from sklearn.model_selection import GridSearchCV\n",
    "from catboost import CatBoostClassifier\n",
    "from sklearn.metrics import matthews_corrcoef"
   ]
  },
  {
   "cell_type": "code",
   "execution_count": 172,
   "metadata": {},
   "outputs": [],
   "source": [
    "# 데이터 로드\n",
    "train = pd.read_csv('../travel/data/train.csv')\n",
    "test = pd.read_csv('../travel/data/test.csv') \n",
    "sample_submission = pd.read_csv('../travel/data/sample_submission.csv')"
   ]
  },
  {
   "cell_type": "code",
   "execution_count": 173,
   "metadata": {},
   "outputs": [
    {
     "name": "stdout",
     "output_type": "stream",
     "text": [
      "<class 'pandas.core.frame.DataFrame'>\n",
      "RangeIndex: 1955 entries, 0 to 1954\n",
      "Data columns (total 20 columns):\n",
      " #   Column                    Non-Null Count  Dtype  \n",
      "---  ------                    --------------  -----  \n",
      " 0   id                        1955 non-null   int64  \n",
      " 1   Age                       1861 non-null   float64\n",
      " 2   TypeofContact             1945 non-null   object \n",
      " 3   CityTier                  1955 non-null   int64  \n",
      " 4   DurationOfPitch           1853 non-null   float64\n",
      " 5   Occupation                1955 non-null   object \n",
      " 6   Gender                    1955 non-null   object \n",
      " 7   NumberOfPersonVisiting    1955 non-null   int64  \n",
      " 8   NumberOfFollowups         1942 non-null   float64\n",
      " 9   ProductPitched            1955 non-null   object \n",
      " 10  PreferredPropertyStar     1945 non-null   float64\n",
      " 11  MaritalStatus             1955 non-null   object \n",
      " 12  NumberOfTrips             1898 non-null   float64\n",
      " 13  Passport                  1955 non-null   int64  \n",
      " 14  PitchSatisfactionScore    1955 non-null   int64  \n",
      " 15  OwnCar                    1955 non-null   int64  \n",
      " 16  NumberOfChildrenVisiting  1928 non-null   float64\n",
      " 17  Designation               1955 non-null   object \n",
      " 18  MonthlyIncome             1855 non-null   float64\n",
      " 19  ProdTaken                 1955 non-null   int64  \n",
      "dtypes: float64(7), int64(7), object(6)\n",
      "memory usage: 305.6+ KB\n"
     ]
    }
   ],
   "source": [
    "# train_data 확인\n",
    "train.info()"
   ]
  },
  {
   "cell_type": "code",
   "execution_count": 174,
   "metadata": {},
   "outputs": [
    {
     "data": {
      "text/plain": [
       "(array([0, 1], dtype=int64), array([1572,  383], dtype=int64))"
      ]
     },
     "execution_count": 174,
     "metadata": {},
     "output_type": "execute_result"
    }
   ],
   "source": [
    "# taget_data 확인\n",
    "np.unique(train.ProdTaken, return_counts=True)"
   ]
  },
  {
   "cell_type": "code",
   "execution_count": 175,
   "metadata": {},
   "outputs": [
    {
     "data": {
      "text/plain": [
       "id                            0\n",
       "Age                          94\n",
       "TypeofContact                10\n",
       "CityTier                      0\n",
       "DurationOfPitch             102\n",
       "Occupation                    0\n",
       "Gender                        0\n",
       "NumberOfPersonVisiting        0\n",
       "NumberOfFollowups            13\n",
       "ProductPitched                0\n",
       "PreferredPropertyStar        10\n",
       "MaritalStatus                 0\n",
       "NumberOfTrips                57\n",
       "Passport                      0\n",
       "PitchSatisfactionScore        0\n",
       "OwnCar                        0\n",
       "NumberOfChildrenVisiting     27\n",
       "Designation                   0\n",
       "MonthlyIncome               100\n",
       "ProdTaken                     0\n",
       "dtype: int64"
      ]
     },
     "execution_count": 175,
     "metadata": {},
     "output_type": "execute_result"
    }
   ],
   "source": [
    "# train_data 결측치 확인\n",
    "train.isna().sum()"
   ]
  },
  {
   "cell_type": "code",
   "execution_count": 176,
   "metadata": {},
   "outputs": [
    {
     "data": {
      "text/plain": [
       "id                            0\n",
       "Age                         132\n",
       "TypeofContact                15\n",
       "CityTier                      0\n",
       "DurationOfPitch             149\n",
       "Occupation                    0\n",
       "Gender                        0\n",
       "NumberOfPersonVisiting        0\n",
       "NumberOfFollowups            32\n",
       "ProductPitched                0\n",
       "PreferredPropertyStar        16\n",
       "MaritalStatus                 0\n",
       "NumberOfTrips                83\n",
       "Passport                      0\n",
       "PitchSatisfactionScore        0\n",
       "OwnCar                        0\n",
       "NumberOfChildrenVisiting     39\n",
       "Designation                   0\n",
       "MonthlyIncome               133\n",
       "dtype: int64"
      ]
     },
     "execution_count": 176,
     "metadata": {},
     "output_type": "execute_result"
    }
   ],
   "source": [
    "# test_data 결측치 확인\n",
    "test.isna().sum()"
   ]
  },
  {
   "cell_type": "code",
   "execution_count": 177,
   "metadata": {},
   "outputs": [
    {
     "data": {
      "image/png": "[encoded data removed]",
      "text/plain": [
       "<Figure size 1008x648 with 2 Axes>"
      ]
     },
     "metadata": {
      "needs_background": "light"
     },
     "output_type": "display_data"
    }
   ],
   "source": [
    "# 상관관계 분석도\n",
    "plt.figure(figsize=(14, 9))\n",
    "heat_table = train.corr()\n",
    "mask = np.zeros_like(heat_table)\n",
    "mask[np.triu_indices_from(mask)]=True\n",
    "heatmap_ax = sns.heatmap(heat_table, annot=True, mask=mask, cmap='coolwarm_r', vmin=-1, vmax=1)\n",
    "heatmap_ax.set_xticklabels(heatmap_ax.get_xticklabels(), fontsize=10, rotation=90)\n",
    "heatmap_ax.set_yticklabels(heatmap_ax.get_yticklabels(), fontsize=10)\n",
    "plt.title('correlation between columns', fontsize=20)\n",
    "plt.show()"
   ]
  },
  {
   "cell_type": "code",
   "execution_count": 178,
   "metadata": {},
   "outputs": [],
   "source": [
    "# object 타입 데이터 변환\n",
    "\n",
    "# 고객의 제품 인지 방법(회사의 홍보 or 스스로 검색)\n",
    "for these in [train, test]:\n",
    "    these['TypeofContact'] = these['TypeofContact'].map({'Unknown': 0, 'Self Enquiry': 1, 'Company Invited': 2})  \n",
    "\n",
    "# 성별\n",
    "for these in [train, test]:\n",
    "    these['Gender'] = these['Gender'].map({'Male': 0, 'Female': 1, 'Fe Male': 1})  # 'Fe Male' -> 'Female'\n",
    "\n",
    "# 직업 \n",
    "for these in [train, test]:\n",
    "    these['Occupation'] = these['Occupation'].map({'Salaried': 0, 'Small Business': 1, 'Large Business': 2, 'Free Lancer':3})\n",
    "\n",
    "# 영업 사원이 제시한 상품 \n",
    "for these in [train, test]:\n",
    "    these['ProductPitched'] = these['ProductPitched'].map({'Super Deluxe': 0, 'King': 1, 'Deluxe': 2, 'Standard':3, 'Basic': 4})\n",
    "\n",
    "# 결혼 여부 \n",
    "for these in [train, test]:\n",
    "    these['MaritalStatus'] = these['MaritalStatus'].map({'Divorced': 0, 'Married': 1, 'Unmarried': 2, 'Single':3})\n",
    "\n",
    "# 직급 \n",
    "for these in [train, test]:\n",
    "    these['Designation'] = these['Designation'].map({'AVP': 0, 'VP': 1, 'Manager': 2, 'Senior Manager':3, 'Executive': 4})"
   ]
  },
  {
   "cell_type": "code",
   "execution_count": 179,
   "metadata": {},
   "outputs": [
    {
     "data": {
      "text/html": [
       "<div>\n",
       "<style scoped>\n",
       "    .dataframe tbody tr th:only-of-type {\n",
       "        vertical-align: middle;\n",
       "    }\n",
       "\n",
       "    .dataframe tbody tr th {\n",
       "        vertical-align: top;\n",
       "    }\n",
       "\n",
       "    .dataframe thead th {\n",
       "        text-align: right;\n",
       "    }\n",
       "</style>\n",
       "<table border=\"1\" class=\"dataframe\">\n",
       "  <thead>\n",
       "    <tr style=\"text-align: right;\">\n",
       "      <th></th>\n",
       "      <th>id</th>\n",
       "      <th>Age</th>\n",
       "      <th>TypeofContact</th>\n",
       "      <th>CityTier</th>\n",
       "      <th>DurationOfPitch</th>\n",
       "      <th>Occupation</th>\n",
       "      <th>Gender</th>\n",
       "      <th>NumberOfPersonVisiting</th>\n",
       "      <th>NumberOfFollowups</th>\n",
       "      <th>ProductPitched</th>\n",
       "      <th>PreferredPropertyStar</th>\n",
       "      <th>MaritalStatus</th>\n",
       "      <th>NumberOfTrips</th>\n",
       "      <th>Passport</th>\n",
       "      <th>PitchSatisfactionScore</th>\n",
       "      <th>OwnCar</th>\n",
       "      <th>NumberOfChildrenVisiting</th>\n",
       "      <th>Designation</th>\n",
       "      <th>MonthlyIncome</th>\n",
       "      <th>ProdTaken</th>\n",
       "    </tr>\n",
       "  </thead>\n",
       "  <tbody>\n",
       "    <tr>\n",
       "      <th>count</th>\n",
       "      <td>1955.000000</td>\n",
       "      <td>1861.000000</td>\n",
       "      <td>1945.000000</td>\n",
       "      <td>1955.000000</td>\n",
       "      <td>1853.000000</td>\n",
       "      <td>1955.000000</td>\n",
       "      <td>1955.000000</td>\n",
       "      <td>1955.000000</td>\n",
       "      <td>1942.000000</td>\n",
       "      <td>1955.000000</td>\n",
       "      <td>1945.000000</td>\n",
       "      <td>1955.000000</td>\n",
       "      <td>1898.000000</td>\n",
       "      <td>1955.000000</td>\n",
       "      <td>1955.000000</td>\n",
       "      <td>1955.000000</td>\n",
       "      <td>1928.000000</td>\n",
       "      <td>1955.000000</td>\n",
       "      <td>1855.000000</td>\n",
       "      <td>1955.000000</td>\n",
       "    </tr>\n",
       "    <tr>\n",
       "      <th>mean</th>\n",
       "      <td>978.000000</td>\n",
       "      <td>37.462117</td>\n",
       "      <td>1.291003</td>\n",
       "      <td>1.641432</td>\n",
       "      <td>15.524015</td>\n",
       "      <td>0.590793</td>\n",
       "      <td>0.382609</td>\n",
       "      <td>2.922762</td>\n",
       "      <td>3.718332</td>\n",
       "      <td>2.738107</td>\n",
       "      <td>3.568638</td>\n",
       "      <td>1.309463</td>\n",
       "      <td>3.255532</td>\n",
       "      <td>0.291049</td>\n",
       "      <td>3.067519</td>\n",
       "      <td>0.619437</td>\n",
       "      <td>1.213174</td>\n",
       "      <td>2.738107</td>\n",
       "      <td>23624.108895</td>\n",
       "      <td>0.195908</td>\n",
       "    </tr>\n",
       "    <tr>\n",
       "      <th>std</th>\n",
       "      <td>564.504207</td>\n",
       "      <td>9.189948</td>\n",
       "      <td>0.454342</td>\n",
       "      <td>0.908744</td>\n",
       "      <td>8.150057</td>\n",
       "      <td>0.641707</td>\n",
       "      <td>0.486148</td>\n",
       "      <td>0.712276</td>\n",
       "      <td>1.004095</td>\n",
       "      <td>1.202588</td>\n",
       "      <td>0.793196</td>\n",
       "      <td>0.977164</td>\n",
       "      <td>1.814698</td>\n",
       "      <td>0.454362</td>\n",
       "      <td>1.372915</td>\n",
       "      <td>0.485649</td>\n",
       "      <td>0.859450</td>\n",
       "      <td>1.202588</td>\n",
       "      <td>5640.482258</td>\n",
       "      <td>0.397000</td>\n",
       "    </tr>\n",
       "    <tr>\n",
       "      <th>min</th>\n",
       "      <td>1.000000</td>\n",
       "      <td>18.000000</td>\n",
       "      <td>1.000000</td>\n",
       "      <td>1.000000</td>\n",
       "      <td>5.000000</td>\n",
       "      <td>0.000000</td>\n",
       "      <td>0.000000</td>\n",
       "      <td>1.000000</td>\n",
       "      <td>1.000000</td>\n",
       "      <td>0.000000</td>\n",
       "      <td>3.000000</td>\n",
       "      <td>0.000000</td>\n",
       "      <td>1.000000</td>\n",
       "      <td>0.000000</td>\n",
       "      <td>1.000000</td>\n",
       "      <td>0.000000</td>\n",
       "      <td>0.000000</td>\n",
       "      <td>0.000000</td>\n",
       "      <td>1000.000000</td>\n",
       "      <td>0.000000</td>\n",
       "    </tr>\n",
       "    <tr>\n",
       "      <th>25%</th>\n",
       "      <td>489.500000</td>\n",
       "      <td>31.000000</td>\n",
       "      <td>1.000000</td>\n",
       "      <td>1.000000</td>\n",
       "      <td>9.000000</td>\n",
       "      <td>0.000000</td>\n",
       "      <td>0.000000</td>\n",
       "      <td>2.000000</td>\n",
       "      <td>3.000000</td>\n",
       "      <td>2.000000</td>\n",
       "      <td>3.000000</td>\n",
       "      <td>1.000000</td>\n",
       "      <td>2.000000</td>\n",
       "      <td>0.000000</td>\n",
       "      <td>2.000000</td>\n",
       "      <td>0.000000</td>\n",
       "      <td>1.000000</td>\n",
       "      <td>2.000000</td>\n",
       "      <td>20390.000000</td>\n",
       "      <td>0.000000</td>\n",
       "    </tr>\n",
       "    <tr>\n",
       "      <th>50%</th>\n",
       "      <td>978.000000</td>\n",
       "      <td>36.000000</td>\n",
       "      <td>1.000000</td>\n",
       "      <td>1.000000</td>\n",
       "      <td>14.000000</td>\n",
       "      <td>1.000000</td>\n",
       "      <td>0.000000</td>\n",
       "      <td>3.000000</td>\n",
       "      <td>4.000000</td>\n",
       "      <td>3.000000</td>\n",
       "      <td>3.000000</td>\n",
       "      <td>1.000000</td>\n",
       "      <td>3.000000</td>\n",
       "      <td>0.000000</td>\n",
       "      <td>3.000000</td>\n",
       "      <td>1.000000</td>\n",
       "      <td>1.000000</td>\n",
       "      <td>3.000000</td>\n",
       "      <td>22295.000000</td>\n",
       "      <td>0.000000</td>\n",
       "    </tr>\n",
       "    <tr>\n",
       "      <th>75%</th>\n",
       "      <td>1466.500000</td>\n",
       "      <td>43.000000</td>\n",
       "      <td>2.000000</td>\n",
       "      <td>3.000000</td>\n",
       "      <td>20.000000</td>\n",
       "      <td>1.000000</td>\n",
       "      <td>1.000000</td>\n",
       "      <td>3.000000</td>\n",
       "      <td>4.000000</td>\n",
       "      <td>4.000000</td>\n",
       "      <td>4.000000</td>\n",
       "      <td>2.000000</td>\n",
       "      <td>4.000000</td>\n",
       "      <td>1.000000</td>\n",
       "      <td>4.000000</td>\n",
       "      <td>1.000000</td>\n",
       "      <td>2.000000</td>\n",
       "      <td>4.000000</td>\n",
       "      <td>25558.000000</td>\n",
       "      <td>0.000000</td>\n",
       "    </tr>\n",
       "    <tr>\n",
       "      <th>max</th>\n",
       "      <td>1955.000000</td>\n",
       "      <td>61.000000</td>\n",
       "      <td>2.000000</td>\n",
       "      <td>3.000000</td>\n",
       "      <td>36.000000</td>\n",
       "      <td>3.000000</td>\n",
       "      <td>1.000000</td>\n",
       "      <td>5.000000</td>\n",
       "      <td>6.000000</td>\n",
       "      <td>4.000000</td>\n",
       "      <td>5.000000</td>\n",
       "      <td>3.000000</td>\n",
       "      <td>19.000000</td>\n",
       "      <td>1.000000</td>\n",
       "      <td>5.000000</td>\n",
       "      <td>1.000000</td>\n",
       "      <td>3.000000</td>\n",
       "      <td>4.000000</td>\n",
       "      <td>98678.000000</td>\n",
       "      <td>1.000000</td>\n",
       "    </tr>\n",
       "  </tbody>\n",
       "</table>\n",
       "</div>"
      ],
      "text/plain": [
       "                id          Age  TypeofContact     CityTier  DurationOfPitch  \\\n",
       "count  1955.000000  1861.000000    1945.000000  1955.000000      1853.000000   \n",
       "mean    978.000000    37.462117       1.291003     1.641432        15.524015   \n",
       "std     564.504207     9.189948       0.454342     0.908744         8.150057   \n",
       "min       1.000000    18.000000       1.000000     1.000000         5.000000   \n",
       "25%     489.500000    31.000000       1.000000     1.000000         9.000000   \n",
       "50%     978.000000    36.000000       1.000000     1.000000        14.000000   \n",
       "75%    1466.500000    43.000000       2.000000     3.000000        20.000000   \n",
       "max    1955.000000    61.000000       2.000000     3.000000        36.000000   \n",
       "\n",
       "        Occupation       Gender  NumberOfPersonVisiting  NumberOfFollowups  \\\n",
       "count  1955.000000  1955.000000             1955.000000        1942.000000   \n",
       "mean      0.590793     0.382609                2.922762           3.718332   \n",
       "std       0.641707     0.486148                0.712276           1.004095   \n",
       "min       0.000000     0.000000                1.000000           1.000000   \n",
       "25%       0.000000     0.000000                2.000000           3.000000   \n",
       "50%       1.000000     0.000000                3.000000           4.000000   \n",
       "75%       1.000000     1.000000                3.000000           4.000000   \n",
       "max       3.000000     1.000000                5.000000           6.000000   \n",
       "\n",
       "       ProductPitched  PreferredPropertyStar  MaritalStatus  NumberOfTrips  \\\n",
       "count     1955.000000            1945.000000    1955.000000    1898.000000   \n",
       "mean         2.738107               3.568638       1.309463       3.255532   \n",
       "std          1.202588               0.793196       0.977164       1.814698   \n",
       "min          0.000000               3.000000       0.000000       1.000000   \n",
       "25%          2.000000               3.000000       1.000000       2.000000   \n",
       "50%          3.000000               3.000000       1.000000       3.000000   \n",
       "75%          4.000000               4.000000       2.000000       4.000000   \n",
       "max          4.000000               5.000000       3.000000      19.000000   \n",
       "\n",
       "          Passport  PitchSatisfactionScore       OwnCar  \\\n",
       "count  1955.000000             1955.000000  1955.000000   \n",
       "mean      0.291049                3.067519     0.619437   \n",
       "std       0.454362                1.372915     0.485649   \n",
       "min       0.000000                1.000000     0.000000   \n",
       "25%       0.000000                2.000000     0.000000   \n",
       "50%       0.000000                3.000000     1.000000   \n",
       "75%       1.000000                4.000000     1.000000   \n",
       "max       1.000000                5.000000     1.000000   \n",
       "\n",
       "       NumberOfChildrenVisiting  Designation  MonthlyIncome    ProdTaken  \n",
       "count               1928.000000  1955.000000    1855.000000  1955.000000  \n",
       "mean                   1.213174     2.738107   23624.108895     0.195908  \n",
       "std                    0.859450     1.202588    5640.482258     0.397000  \n",
       "min                    0.000000     0.000000    1000.000000     0.000000  \n",
       "25%                    1.000000     2.000000   20390.000000     0.000000  \n",
       "50%                    1.000000     3.000000   22295.000000     0.000000  \n",
       "75%                    2.000000     4.000000   25558.000000     0.000000  \n",
       "max                    3.000000     4.000000   98678.000000     1.000000  "
      ]
     },
     "execution_count": 179,
     "metadata": {},
     "output_type": "execute_result"
    }
   ],
   "source": [
    "# 수치형으로 변환된 데이터 요약\n",
    "train.describe() "
   ]
  },
  {
   "cell_type": "code",
   "execution_count": 180,
   "metadata": {},
   "outputs": [
    {
     "data": {
      "text/plain": [
       "id                          0.032920\n",
       "Age                         0.440733\n",
       "TypeofContact              -0.039107\n",
       "CityTier                    0.057705\n",
       "DurationOfPitch             0.016011\n",
       "Occupation                 -0.037049\n",
       "Gender                      0.024985\n",
       "NumberOfPersonVisiting      0.168701\n",
       "NumberOfFollowups           0.194668\n",
       "ProductPitched             -0.579170\n",
       "PreferredPropertyStar      -0.024338\n",
       "MaritalStatus              -0.132442\n",
       "NumberOfTrips               0.137093\n",
       "Passport                    0.017044\n",
       "PitchSatisfactionScore     -0.005497\n",
       "OwnCar                      0.109662\n",
       "NumberOfChildrenVisiting    0.179255\n",
       "Designation                -0.579170\n",
       "MonthlyIncome               1.000000\n",
       "ProdTaken                  -0.140617\n",
       "dtype: float64"
      ]
     },
     "execution_count": 180,
     "metadata": {},
     "output_type": "execute_result"
    }
   ],
   "source": [
    "# min, max가 평균과 크게 차이나는 'NumberOfTrips', 'MonthlyIncome' 데이터 이상치 확인\n",
    "# 'MonthlyIncome' 상관계수 확인\n",
    "train.corrwith(train['MonthlyIncome'])"
   ]
  },
  {
   "cell_type": "code",
   "execution_count": 181,
   "metadata": {},
   "outputs": [
    {
     "data": {
      "image/png": "[encoded data removed]",
      "text/plain": [
       "<Figure size 432x288 with 1 Axes>"
      ]
     },
     "metadata": {
      "needs_background": "light"
     },
     "output_type": "display_data"
    }
   ],
   "source": [
    "# 'MonthlyIncom' 이상치 확인\n",
    "plt.scatter(train.MonthlyIncome, train.Designation)\n",
    "plt.xlabel('MonthlyIncome')\n",
    "plt.ylabel('Designation')\n",
    "plt.show()"
   ]
  },
  {
   "cell_type": "code",
   "execution_count": 182,
   "metadata": {},
   "outputs": [
    {
     "data": {
      "image/png": "[encoded data removed]",
      "text/plain": [
       "<Figure size 432x288 with 1 Axes>"
      ]
     },
     "metadata": {
      "needs_background": "light"
     },
     "output_type": "display_data"
    }
   ],
   "source": [
    "# 'NumberOfTrips' 이상치 확인\n",
    "plt.scatter(train.NumberOfTrips, train.NumberOfPersonVisiting)\n",
    "plt.xlabel('NumberOfTrips')\n",
    "plt.ylabel('NumberOfPersonVisiting')\n",
    "plt.show()"
   ]
  },
  {
   "cell_type": "code",
   "execution_count": 183,
   "metadata": {},
   "outputs": [
    {
     "data": {
      "text/plain": [
       "1338    98678.0\n",
       "604     95000.0\n",
       "827     38651.0\n",
       "1518    38604.0\n",
       "314     38537.0\n",
       "         ...   \n",
       "1897        NaN\n",
       "1911        NaN\n",
       "1912        NaN\n",
       "1914        NaN\n",
       "1923        NaN\n",
       "Name: MonthlyIncome, Length: 1955, dtype: float64"
      ]
     },
     "execution_count": 183,
     "metadata": {},
     "output_type": "execute_result"
    }
   ],
   "source": [
    "# 이상치 인덱스 확인\n",
    "train['MonthlyIncome'].sort_values(ascending=False)  # 1338, 604\n"
   ]
  },
  {
   "cell_type": "code",
   "execution_count": 184,
   "metadata": {},
   "outputs": [
    {
     "data": {
      "text/plain": [
       "189      1000.0\n",
       "838     16009.0\n",
       "538     16052.0\n",
       "1505    16091.0\n",
       "73      16118.0\n",
       "         ...   \n",
       "1897        NaN\n",
       "1911        NaN\n",
       "1912        NaN\n",
       "1914        NaN\n",
       "1923        NaN\n",
       "Name: MonthlyIncome, Length: 1955, dtype: float64"
      ]
     },
     "execution_count": 184,
     "metadata": {},
     "output_type": "execute_result"
    }
   ],
   "source": [
    "train['MonthlyIncome'].sort_values(ascending=True)  # 189"
   ]
  },
  {
   "cell_type": "code",
   "execution_count": 185,
   "metadata": {},
   "outputs": [
    {
     "data": {
      "text/plain": [
       "987     19.0\n",
       "1828     8.0\n",
       "303      8.0\n",
       "1404     8.0\n",
       "1598     8.0\n",
       "        ... \n",
       "1822     NaN\n",
       "1856     NaN\n",
       "1899     NaN\n",
       "1906     NaN\n",
       "1927     NaN\n",
       "Name: NumberOfTrips, Length: 1955, dtype: float64"
      ]
     },
     "execution_count": 185,
     "metadata": {},
     "output_type": "execute_result"
    }
   ],
   "source": [
    "# 이상치 인덱스 확인\n",
    "train['NumberOfTrips'].sort_values(ascending=False)  # 987"
   ]
  },
  {
   "cell_type": "code",
   "execution_count": 186,
   "metadata": {},
   "outputs": [],
   "source": [
    "# 이상치 제거\n",
    "train.drop(index=[189, 604, 1338, 987], inplace=True) "
   ]
  },
  {
   "cell_type": "code",
   "execution_count": 187,
   "metadata": {},
   "outputs": [],
   "source": [
    "# 결측치 처리\n",
    "ls = ['DurationOfPitch', 'TypeofContact']  # 'TypeofContact', 'DurationOfPitch'는 Unknown(0)으로 처리했습니다.\n",
    "for these in [train, test]:\n",
    "    for col in ls:\n",
    "        these[col].fillna(0, inplace=True) \n",
    "\n",
    "# 'PreferredPropertyStar', 'NumberOfTrips', 'Age'는 상관계수가 높은 컬럼의 그룹별 평균값으로 처리했습니다.\n",
    "for these in [train, test]:\n",
    "        these['PreferredPropertyStar'].fillna(these.groupby('NumberOfTrips')['PreferredPropertyStar'].transform('mean'), inplace=True)  \n",
    "        these['NumberOfTrips'].fillna(these.groupby('DurationOfPitch')['NumberOfTrips'].transform('mean'), inplace=True)\n",
    "        these['Age'].fillna(these.groupby('Designation')['Age'].transform('mean'), inplace=True)"
   ]
  },
  {
   "cell_type": "code",
   "execution_count": 188,
   "metadata": {},
   "outputs": [],
   "source": [
    "# 비교적 값이 큰 데이터 스케일링\n",
    "scaler = RobustScaler()\n",
    "train[['Age', 'DurationOfPitch']] = scaler.fit_transform(train[['Age', 'DurationOfPitch']])\n",
    "test[['Age', 'DurationOfPitch']] = scaler.transform(test[['Age', 'DurationOfPitch']])"
   ]
  },
  {
   "cell_type": "code",
   "execution_count": 189,
   "metadata": {},
   "outputs": [],
   "source": [
    "# 불필요한 컬럼 제거하고 train_data를 x, y로 분리\n",
    "train.drop(columns=['id', 'NumberOfChildrenVisiting', 'NumberOfPersonVisiting', 'OwnCar', 'MonthlyIncome', 'NumberOfFollowups'], axis=1, inplace=True)\n",
    "test.drop(columns=['id', 'NumberOfChildrenVisiting', 'NumberOfPersonVisiting', 'OwnCar', 'MonthlyIncome', 'NumberOfFollowups'], axis=1, inplace=True)\n",
    "# 상관관계 분석도를 참고해 상관계수가 낮은 'NumberOfChildrenVisiting', 'NumberOfPersonVisiting', 'OwnCar' 드롭했습니다.\n",
    "# 'MonthlyIncome'은 결측치가 가장 많고 'Age', 'DurationOfPitch'과 상관계수가 높아 두 피쳐만으로 충분할거라 예상되어 드롭했습니다.\n",
    "# 'NumberOfFollowups'은 다른 컬럼들과는 상관계수가 낮고, 불필요하다고 판단한 위의 컬럼들과 상관계수가 높아 드롭했습니다.\n",
    "\n",
    "x = train.drop(columns=['ProdTaken'], axis=1)\n",
    "y = train[['ProdTaken']]"
   ]
  },
  {
   "cell_type": "code",
   "execution_count": 190,
   "metadata": {},
   "outputs": [],
   "source": [
    "# k-fold, train_test_split\n",
    "k_fold = StratifiedKFold(n_splits=10, shuffle=True, random_state=42)  \n",
    "x_train, x_test, y_train, y_test = train_test_split(x, y, train_size=0.9, shuffle=True, random_state=1234, stratify=y) "
   ]
  },
  {
   "cell_type": "code",
   "execution_count": 191,
   "metadata": {},
   "outputs": [
    {
     "name": "stdout",
     "output_type": "stream",
     "text": [
      "0:\tlearn: 0.5795893\ttotal: 31.3ms\tremaining: 6.23s\n",
      "2:\tlearn: 0.3847641\ttotal: 72.2ms\tremaining: 4.74s\n",
      "4:\tlearn: 0.3015673\ttotal: 134ms\tremaining: 5.24s\n",
      "6:\tlearn: 0.2486469\ttotal: 191ms\tremaining: 5.27s\n",
      "8:\tlearn: 0.2110174\ttotal: 219ms\tremaining: 4.65s\n",
      "10:\tlearn: 0.1779999\ttotal: 275ms\tremaining: 4.73s\n",
      "12:\tlearn: 0.1541392\ttotal: 317ms\tremaining: 4.57s\n",
      "14:\tlearn: 0.1356218\ttotal: 372ms\tremaining: 4.58s\n",
      "16:\tlearn: 0.1213893\ttotal: 426ms\tremaining: 4.59s\n",
      "18:\tlearn: 0.1094883\ttotal: 480ms\tremaining: 4.58s\n",
      "20:\tlearn: 0.0997398\ttotal: 535ms\tremaining: 4.56s\n",
      "22:\tlearn: 0.0904833\ttotal: 589ms\tremaining: 4.53s\n",
      "24:\tlearn: 0.0811146\ttotal: 617ms\tremaining: 4.32s\n",
      "26:\tlearn: 0.0749689\ttotal: 674ms\tremaining: 4.32s\n",
      "28:\tlearn: 0.0696092\ttotal: 739ms\tremaining: 4.36s\n",
      "30:\tlearn: 0.0651155\ttotal: 803ms\tremaining: 4.38s\n",
      "32:\tlearn: 0.0611034\ttotal: 895ms\tremaining: 4.53s\n",
      "34:\tlearn: 0.0573905\ttotal: 1.02s\tremaining: 4.8s\n",
      "36:\tlearn: 0.0543763\ttotal: 1.1s\tremaining: 4.85s\n",
      "38:\tlearn: 0.0515644\ttotal: 1.16s\tremaining: 4.78s\n",
      "40:\tlearn: 0.0489292\ttotal: 1.22s\tremaining: 4.71s\n",
      "42:\tlearn: 0.0465811\ttotal: 1.27s\tremaining: 4.65s\n",
      "44:\tlearn: 0.0444848\ttotal: 1.33s\tremaining: 4.58s\n",
      "46:\tlearn: 0.0425962\ttotal: 1.39s\tremaining: 4.51s\n",
      "48:\tlearn: 0.0408126\ttotal: 1.44s\tremaining: 4.44s\n",
      "50:\tlearn: 0.0391399\ttotal: 1.5s\tremaining: 4.38s\n",
      "52:\tlearn: 0.0376585\ttotal: 1.55s\tremaining: 4.31s\n",
      "54:\tlearn: 0.0362979\ttotal: 1.61s\tremaining: 4.24s\n",
      "56:\tlearn: 0.0350447\ttotal: 1.66s\tremaining: 4.17s\n",
      "58:\tlearn: 0.0338605\ttotal: 1.72s\tremaining: 4.1s\n",
      "60:\tlearn: 0.0327720\ttotal: 1.77s\tremaining: 4.03s\n",
      "62:\tlearn: 0.0317472\ttotal: 1.82s\tremaining: 3.97s\n",
      "64:\tlearn: 0.0307699\ttotal: 1.91s\tremaining: 3.98s\n",
      "66:\tlearn: 0.0298572\ttotal: 1.97s\tremaining: 3.91s\n",
      "68:\tlearn: 0.0289929\ttotal: 2.02s\tremaining: 3.84s\n",
      "70:\tlearn: 0.0281945\ttotal: 2.07s\tremaining: 3.77s\n",
      "72:\tlearn: 0.0274116\ttotal: 2.13s\tremaining: 3.7s\n",
      "74:\tlearn: 0.0266765\ttotal: 2.18s\tremaining: 3.63s\n",
      "76:\tlearn: 0.0259706\ttotal: 2.23s\tremaining: 3.57s\n",
      "78:\tlearn: 0.0252988\ttotal: 2.29s\tremaining: 3.5s\n",
      "80:\tlearn: 0.0246568\ttotal: 2.34s\tremaining: 3.44s\n",
      "82:\tlearn: 0.0240278\ttotal: 2.39s\tremaining: 3.37s\n",
      "84:\tlearn: 0.0234769\ttotal: 2.44s\tremaining: 3.31s\n",
      "86:\tlearn: 0.0229467\ttotal: 2.5s\tremaining: 3.25s\n",
      "88:\tlearn: 0.0224195\ttotal: 2.55s\tremaining: 3.19s\n",
      "90:\tlearn: 0.0219272\ttotal: 2.61s\tremaining: 3.13s\n",
      "92:\tlearn: 0.0214063\ttotal: 2.67s\tremaining: 3.07s\n",
      "94:\tlearn: 0.0209463\ttotal: 2.72s\tremaining: 3.01s\n",
      "96:\tlearn: 0.0204871\ttotal: 2.78s\tremaining: 2.96s\n",
      "98:\tlearn: 0.0200785\ttotal: 2.85s\tremaining: 2.91s\n",
      "100:\tlearn: 0.0196545\ttotal: 2.95s\tremaining: 2.89s\n",
      "102:\tlearn: 0.0192793\ttotal: 3s\tremaining: 2.83s\n",
      "104:\tlearn: 0.0189019\ttotal: 3.06s\tremaining: 2.77s\n",
      "106:\tlearn: 0.0185400\ttotal: 3.11s\tremaining: 2.7s\n",
      "108:\tlearn: 0.0181837\ttotal: 3.16s\tremaining: 2.64s\n",
      "110:\tlearn: 0.0178498\ttotal: 3.22s\tremaining: 2.58s\n",
      "112:\tlearn: 0.0175260\ttotal: 3.27s\tremaining: 2.52s\n",
      "114:\tlearn: 0.0172050\ttotal: 3.32s\tremaining: 2.46s\n",
      "116:\tlearn: 0.0169008\ttotal: 3.38s\tremaining: 2.4s\n",
      "118:\tlearn: 0.0166138\ttotal: 3.43s\tremaining: 2.33s\n",
      "120:\tlearn: 0.0163550\ttotal: 3.48s\tremaining: 2.27s\n",
      "122:\tlearn: 0.0160862\ttotal: 3.54s\tremaining: 2.21s\n",
      "124:\tlearn: 0.0158252\ttotal: 3.59s\tremaining: 2.15s\n",
      "126:\tlearn: 0.0155829\ttotal: 3.64s\tremaining: 2.09s\n",
      "128:\tlearn: 0.0153412\ttotal: 3.7s\tremaining: 2.04s\n",
      "130:\tlearn: 0.0151132\ttotal: 3.76s\tremaining: 1.98s\n",
      "132:\tlearn: 0.0148892\ttotal: 3.81s\tremaining: 1.92s\n",
      "134:\tlearn: 0.0146746\ttotal: 3.92s\tremaining: 1.89s\n",
      "136:\tlearn: 0.0144581\ttotal: 3.97s\tremaining: 1.83s\n",
      "138:\tlearn: 0.0142413\ttotal: 4.03s\tremaining: 1.77s\n",
      "140:\tlearn: 0.0140412\ttotal: 4.08s\tremaining: 1.71s\n",
      "142:\tlearn: 0.0138283\ttotal: 4.14s\tremaining: 1.65s\n",
      "144:\tlearn: 0.0136340\ttotal: 4.2s\tremaining: 1.59s\n",
      "146:\tlearn: 0.0134388\ttotal: 4.25s\tremaining: 1.53s\n",
      "148:\tlearn: 0.0132601\ttotal: 4.31s\tremaining: 1.47s\n",
      "150:\tlearn: 0.0130737\ttotal: 4.36s\tremaining: 1.42s\n",
      "152:\tlearn: 0.0129000\ttotal: 4.42s\tremaining: 1.36s\n",
      "154:\tlearn: 0.0127296\ttotal: 4.47s\tremaining: 1.3s\n",
      "156:\tlearn: 0.0125630\ttotal: 4.53s\tremaining: 1.24s\n",
      "158:\tlearn: 0.0124040\ttotal: 4.58s\tremaining: 1.18s\n",
      "160:\tlearn: 0.0122481\ttotal: 4.63s\tremaining: 1.12s\n",
      "162:\tlearn: 0.0120842\ttotal: 4.69s\tremaining: 1.06s\n",
      "164:\tlearn: 0.0119331\ttotal: 4.75s\tremaining: 1.01s\n",
      "166:\tlearn: 0.0117789\ttotal: 4.81s\tremaining: 950ms\n",
      "168:\tlearn: 0.0116366\ttotal: 4.91s\tremaining: 901ms\n",
      "170:\tlearn: 0.0115089\ttotal: 4.97s\tremaining: 843ms\n",
      "172:\tlearn: 0.0113716\ttotal: 5.02s\tremaining: 784ms\n",
      "174:\tlearn: 0.0112447\ttotal: 5.08s\tremaining: 726ms\n",
      "176:\tlearn: 0.0111095\ttotal: 5.13s\tremaining: 667ms\n",
      "178:\tlearn: 0.0109826\ttotal: 5.19s\tremaining: 609ms\n",
      "180:\tlearn: 0.0108634\ttotal: 5.25s\tremaining: 551ms\n",
      "182:\tlearn: 0.0107417\ttotal: 5.3s\tremaining: 493ms\n",
      "184:\tlearn: 0.0106186\ttotal: 5.36s\tremaining: 434ms\n",
      "186:\tlearn: 0.0105070\ttotal: 5.41s\tremaining: 376ms\n",
      "188:\tlearn: 0.0103920\ttotal: 5.47s\tremaining: 318ms\n",
      "190:\tlearn: 0.0102767\ttotal: 5.52s\tremaining: 260ms\n",
      "192:\tlearn: 0.0101705\ttotal: 5.58s\tremaining: 202ms\n",
      "194:\tlearn: 0.0100625\ttotal: 5.63s\tremaining: 144ms\n",
      "196:\tlearn: 0.0099592\ttotal: 5.68s\tremaining: 86.5ms\n",
      "198:\tlearn: 0.0098509\ttotal: 5.74s\tremaining: 28.8ms\n",
      "199:\tlearn: 0.0098029\ttotal: 5.76s\tremaining: 0us\n",
      "0:\tlearn: 0.5795893\ttotal: 29.4ms\tremaining: 5.86s\n",
      "2:\tlearn: 0.3847641\ttotal: 67.6ms\tremaining: 4.44s\n",
      "4:\tlearn: 0.3015673\ttotal: 123ms\tremaining: 4.8s\n",
      "6:\tlearn: 0.2486469\ttotal: 178ms\tremaining: 4.9s\n",
      "8:\tlearn: 0.2110174\ttotal: 207ms\tremaining: 4.39s\n",
      "10:\tlearn: 0.1779999\ttotal: 260ms\tremaining: 4.46s\n",
      "12:\tlearn: 0.1541392\ttotal: 300ms\tremaining: 4.31s\n",
      "14:\tlearn: 0.1356218\ttotal: 352ms\tremaining: 4.34s\n",
      "16:\tlearn: 0.1213893\ttotal: 406ms\tremaining: 4.37s\n",
      "18:\tlearn: 0.1094883\ttotal: 460ms\tremaining: 4.38s\n",
      "20:\tlearn: 0.0997398\ttotal: 514ms\tremaining: 4.38s\n",
      "22:\tlearn: 0.0904833\ttotal: 568ms\tremaining: 4.37s\n",
      "24:\tlearn: 0.0811146\ttotal: 609ms\tremaining: 4.26s\n",
      "26:\tlearn: 0.0749689\ttotal: 684ms\tremaining: 4.38s\n",
      "28:\tlearn: 0.0696092\ttotal: 736ms\tremaining: 4.34s\n",
      "30:\tlearn: 0.0651155\ttotal: 790ms\tremaining: 4.3s\n",
      "32:\tlearn: 0.0611034\ttotal: 843ms\tremaining: 4.27s\n",
      "34:\tlearn: 0.0573905\ttotal: 896ms\tremaining: 4.22s\n",
      "36:\tlearn: 0.0543763\ttotal: 949ms\tremaining: 4.18s\n",
      "38:\tlearn: 0.0515644\ttotal: 1s\tremaining: 4.14s\n",
      "40:\tlearn: 0.0489292\ttotal: 1.06s\tremaining: 4.1s\n",
      "42:\tlearn: 0.0465811\ttotal: 1.11s\tremaining: 4.05s\n",
      "44:\tlearn: 0.0444848\ttotal: 1.16s\tremaining: 4s\n",
      "46:\tlearn: 0.0425962\ttotal: 1.22s\tremaining: 3.96s\n",
      "48:\tlearn: 0.0408126\ttotal: 1.27s\tremaining: 3.92s\n",
      "50:\tlearn: 0.0391399\ttotal: 1.32s\tremaining: 3.87s\n",
      "52:\tlearn: 0.0376585\ttotal: 1.38s\tremaining: 3.82s\n",
      "54:\tlearn: 0.0362979\ttotal: 1.43s\tremaining: 3.77s\n",
      "56:\tlearn: 0.0350447\ttotal: 1.48s\tremaining: 3.73s\n",
      "58:\tlearn: 0.0338605\ttotal: 1.54s\tremaining: 3.67s\n",
      "60:\tlearn: 0.0327720\ttotal: 1.6s\tremaining: 3.66s\n",
      "62:\tlearn: 0.0317472\ttotal: 1.69s\tremaining: 3.68s\n",
      "64:\tlearn: 0.0307699\ttotal: 1.75s\tremaining: 3.63s\n",
      "66:\tlearn: 0.0298572\ttotal: 1.8s\tremaining: 3.57s\n",
      "68:\tlearn: 0.0289929\ttotal: 1.85s\tremaining: 3.52s\n",
      "70:\tlearn: 0.0281945\ttotal: 1.91s\tremaining: 3.47s\n",
      "72:\tlearn: 0.0274116\ttotal: 1.96s\tremaining: 3.41s\n",
      "74:\tlearn: 0.0266765\ttotal: 2.01s\tremaining: 3.35s\n",
      "76:\tlearn: 0.0259706\ttotal: 2.07s\tremaining: 3.3s\n",
      "78:\tlearn: 0.0252988\ttotal: 2.12s\tremaining: 3.25s\n",
      "80:\tlearn: 0.0246568\ttotal: 2.17s\tremaining: 3.19s\n",
      "82:\tlearn: 0.0240278\ttotal: 2.23s\tremaining: 3.14s\n",
      "84:\tlearn: 0.0234769\ttotal: 2.28s\tremaining: 3.09s\n",
      "86:\tlearn: 0.0229467\ttotal: 2.33s\tremaining: 3.03s\n",
      "88:\tlearn: 0.0224195\ttotal: 2.39s\tremaining: 2.98s\n",
      "90:\tlearn: 0.0219272\ttotal: 2.44s\tremaining: 2.92s\n",
      "92:\tlearn: 0.0214063\ttotal: 2.49s\tremaining: 2.87s\n",
      "94:\tlearn: 0.0209463\ttotal: 2.55s\tremaining: 2.81s\n",
      "96:\tlearn: 0.0204871\ttotal: 2.63s\tremaining: 2.79s\n",
      "98:\tlearn: 0.0200785\ttotal: 2.7s\tremaining: 2.76s\n",
      "100:\tlearn: 0.0196545\ttotal: 2.76s\tremaining: 2.7s\n",
      "102:\tlearn: 0.0192793\ttotal: 2.81s\tremaining: 2.65s\n",
      "104:\tlearn: 0.0189019\ttotal: 2.86s\tremaining: 2.59s\n",
      "106:\tlearn: 0.0185400\ttotal: 2.91s\tremaining: 2.53s\n",
      "108:\tlearn: 0.0181837\ttotal: 2.97s\tremaining: 2.48s\n",
      "110:\tlearn: 0.0178498\ttotal: 3.02s\tremaining: 2.42s\n",
      "112:\tlearn: 0.0175260\ttotal: 3.08s\tremaining: 2.37s\n",
      "114:\tlearn: 0.0172050\ttotal: 3.13s\tremaining: 2.31s\n",
      "116:\tlearn: 0.0169008\ttotal: 3.18s\tremaining: 2.26s\n",
      "118:\tlearn: 0.0166138\ttotal: 3.24s\tremaining: 2.2s\n",
      "120:\tlearn: 0.0163550\ttotal: 3.29s\tremaining: 2.15s\n",
      "122:\tlearn: 0.0160862\ttotal: 3.34s\tremaining: 2.09s\n",
      "124:\tlearn: 0.0158252\ttotal: 3.4s\tremaining: 2.04s\n",
      "126:\tlearn: 0.0155829\ttotal: 3.45s\tremaining: 1.98s\n",
      "128:\tlearn: 0.0153412\ttotal: 3.51s\tremaining: 1.93s\n",
      "130:\tlearn: 0.0151132\ttotal: 3.57s\tremaining: 1.88s\n",
      "132:\tlearn: 0.0148892\ttotal: 3.67s\tremaining: 1.85s\n",
      "134:\tlearn: 0.0146746\ttotal: 3.73s\tremaining: 1.79s\n",
      "136:\tlearn: 0.0144581\ttotal: 3.78s\tremaining: 1.74s\n",
      "138:\tlearn: 0.0142413\ttotal: 3.83s\tremaining: 1.68s\n",
      "140:\tlearn: 0.0140412\ttotal: 3.88s\tremaining: 1.63s\n",
      "142:\tlearn: 0.0138283\ttotal: 3.94s\tremaining: 1.57s\n",
      "144:\tlearn: 0.0136340\ttotal: 3.99s\tremaining: 1.51s\n",
      "146:\tlearn: 0.0134388\ttotal: 4.04s\tremaining: 1.46s\n",
      "148:\tlearn: 0.0132601\ttotal: 4.1s\tremaining: 1.4s\n",
      "150:\tlearn: 0.0130737\ttotal: 4.15s\tremaining: 1.35s\n",
      "152:\tlearn: 0.0129000\ttotal: 4.21s\tremaining: 1.29s\n",
      "154:\tlearn: 0.0127296\ttotal: 4.26s\tremaining: 1.24s\n",
      "156:\tlearn: 0.0125630\ttotal: 4.31s\tremaining: 1.18s\n",
      "158:\tlearn: 0.0124040\ttotal: 4.37s\tremaining: 1.13s\n",
      "160:\tlearn: 0.0122481\ttotal: 4.42s\tremaining: 1.07s\n",
      "162:\tlearn: 0.0120842\ttotal: 4.47s\tremaining: 1.01s\n",
      "164:\tlearn: 0.0119331\ttotal: 4.53s\tremaining: 960ms\n",
      "166:\tlearn: 0.0117789\ttotal: 4.59s\tremaining: 908ms\n",
      "168:\tlearn: 0.0116366\ttotal: 4.68s\tremaining: 859ms\n",
      "170:\tlearn: 0.0115089\ttotal: 4.74s\tremaining: 804ms\n",
      "172:\tlearn: 0.0113716\ttotal: 4.79s\tremaining: 748ms\n",
      "174:\tlearn: 0.0112447\ttotal: 4.85s\tremaining: 693ms\n",
      "176:\tlearn: 0.0111095\ttotal: 4.9s\tremaining: 637ms\n",
      "178:\tlearn: 0.0109826\ttotal: 4.96s\tremaining: 581ms\n",
      "180:\tlearn: 0.0108634\ttotal: 5.01s\tremaining: 526ms\n",
      "182:\tlearn: 0.0107417\ttotal: 5.06s\tremaining: 470ms\n",
      "184:\tlearn: 0.0106186\ttotal: 5.12s\tremaining: 415ms\n",
      "186:\tlearn: 0.0105070\ttotal: 5.17s\tremaining: 359ms\n",
      "188:\tlearn: 0.0103920\ttotal: 5.22s\tremaining: 304ms\n",
      "190:\tlearn: 0.0102767\ttotal: 5.28s\tremaining: 249ms\n",
      "192:\tlearn: 0.0101705\ttotal: 5.33s\tremaining: 193ms\n",
      "194:\tlearn: 0.0100625\ttotal: 5.38s\tremaining: 138ms\n",
      "196:\tlearn: 0.0099592\ttotal: 5.43s\tremaining: 82.8ms\n",
      "198:\tlearn: 0.0098509\ttotal: 5.49s\tremaining: 27.6ms\n",
      "199:\tlearn: 0.0098029\ttotal: 5.51s\tremaining: 0us\n"
     ]
    },
    {
     "data": {
      "text/plain": [
       "0.9415829408686551"
      ]
     },
     "execution_count": 191,
     "metadata": {},
     "output_type": "execute_result"
    }
   ],
   "source": [
    "# CatBoostClassifier 정의, 훈련\n",
    "cat_params = {\n",
    "    # 'depth': [10, 11, 14, 15],\n",
    "    'l2_leaf_reg': [9.122611898980937],    \n",
    "    'learning_rate': [0.279118773316628],\n",
    "    'model_size_reg': [5.669787571831169],\n",
    "    # 'n_estimators': [200, 300, 400, 500, 600],\n",
    "    'od_pval': [0.0],\n",
    "}   \n",
    "# 하이퍼파라미터는 BayesianOptimization을 이용해 적절한 파라미터를 찾고, 최종적으로 GridSearchCV를 이용해 'depth'와 'n_estimators'를 조절하며 최선의 하이퍼파라미터를 찾았습니다.\n",
    "                        \n",
    "cat = CatBoostClassifier(verbose=2, depth=14, n_estimators=200, allow_writing_files=False)  \n",
    "grid_cv = GridSearchCV(cat,\n",
    "                       param_grid=cat_params,\n",
    "                       cv=k_fold,\n",
    "                       n_jobs=-1)\n",
    "\n",
    "grid_cv.fit(x, y.values.ravel())\n",
    "\n",
    "model = grid_cv.best_estimator_\n",
    "model.fit(x, y.values.ravel())\n",
    "\n",
    "grid_cv.best_score_"
   ]
  },
  {
   "cell_type": "code",
   "execution_count": 192,
   "metadata": {},
   "outputs": [],
   "source": [
    "# 제출\n",
    "y_summit = model.predict(test)\n",
    "sample_submission['ProdTaken'] = y_summit\n",
    "sample_submission.to_csv('../travel/save/sample_submission.csv', index=False)"
   ]
  }
 ],
 "metadata": {
  "kernelspec": {
   "display_name": "Python 3.8.13 ('readvice')",
   "language": "python",
   "name": "python3"
  },
  "language_info": {
   "codemirror_mode": {
    "name": "ipython",
    "version": 3
   },
   "file_extension": ".py",
   "mimetype": "text/x-python",
   "name": "python",
   "nbconvert_exporter": "python",
   "pygments_lexer": "ipython3",
   "version": "3.8.13"
  },
  "orig_nbformat": 4,
  "vscode": {
   "interpreter": {
    "hash": "f82e657652c1f559b98fb141e76bcce2ec0f3958c3a6000b4409466ee456e5f2"
   }
  }
 },
 "nbformat": 4,
 "nbformat_minor": 2
}
