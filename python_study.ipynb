{
 "cells": [
  {
   "cell_type": "markdown",
   "metadata": {},
   "source": [
    "## 헬로 파이썬"
   ]
  },
  {
   "cell_type": "code",
   "execution_count": 9,
   "metadata": {},
   "outputs": [
    {
     "name": "stdout",
     "output_type": "stream",
     "text": [
      "5\n",
      "5\n"
     ]
    }
   ],
   "source": [
    "# 피보나치\n",
    "def fib1(num):\n",
    "    a, b = 0, 1\n",
    "    for n in range(num):\n",
    "        c = a+b\n",
    "        a = b\n",
    "        b = c\n",
    "    return a\n",
    "\n",
    "def fib2(num):\n",
    "    if num==1 or num==2:\n",
    "        return 1\n",
    "    else:\n",
    "        return fib2(num-1) + fib2(num-2)\n",
    "\n",
    "\n",
    "\n",
    "if __name__=='__main__':\n",
    "    # num 은 2 이상의 자연수\n",
    "    num = 5\n",
    "    print(fib1(num))\n",
    "    print(fib2(num))"
   ]
  },
  {
   "cell_type": "code",
   "execution_count": 44,
   "metadata": {},
   "outputs": [
    {
     "name": "stdout",
     "output_type": "stream",
     "text": [
      "min: 5, max: 80, sum: 156\n",
      "min: 2, max: 810, sum: 1137\n"
     ]
    }
   ],
   "source": [
    "# 최소값, 최대값, 총합 구하기\n",
    "def min_max(num):\n",
    "    min = 0\n",
    "    max = 0\n",
    "    sum = 0\n",
    "    \n",
    "    ls = [int(i) for i in num.split(',')]    \n",
    "    ls.sort()\n",
    "    min, max = ls[0], ls[-1]\n",
    "    \n",
    "    for i in range(len(ls)):\n",
    "        sum += ls[i]\n",
    "    return f'min: {min}, max: {max}, sum: {sum}'\n",
    "\n",
    "if __name__=='__main__':\n",
    "    num = '5,9,80,10,52'\n",
    "    num2 = '55,200,810,70,2'\n",
    "    print(min_max(num))\n",
    "    print(min_max(num2))"
   ]
  },
  {
   "cell_type": "code",
   "execution_count": 27,
   "metadata": {},
   "outputs": [
    {
     "name": "stdout",
     "output_type": "stream",
     "text": [
      "!gnimmargorP\n",
      "P\n",
      "rP\n",
      "orP\n",
      "gorP\n",
      "rgorP\n",
      "argorP\n",
      "margorP\n",
      "mmargorP\n",
      "immargorP\n",
      "nimmargorP\n",
      "gnimmargorP\n",
      "!gnimmargorP\n",
      "!gnimmargorP\n"
     ]
    }
   ],
   "source": [
    "# 문자열 뒤집기\n",
    "def solution1(s):\n",
    "    s = ''.join(reversed(s))\n",
    "    return s\n",
    "\n",
    "def solution2(s):\n",
    "    s2 = ''\n",
    "    for i in s:\n",
    "        s2 = i + s2\n",
    "        print(s2)\n",
    "    return s2\n",
    "\n",
    "if __name__=='__main__':\n",
    "    s = 'Programming!'\n",
    "    print(solution1(s))\n",
    "    print(solution2(s))"
   ]
  },
  {
   "cell_type": "code",
   "execution_count": 28,
   "metadata": {},
   "outputs": [
    {
     "name": "stdout",
     "output_type": "stream",
     "text": [
      "['3people', 'unFollowed', 'me']\n",
      "['3people', 'unFollowed', 'me']\n",
      "['3people', 'Unfollowed', 'me']\n",
      "['3people', 'Unfollowed', 'Me']\n",
      "3people Unfollowed Me\n",
      "['for', 'the', 'last', 'week']\n",
      "['For', 'the', 'last', 'week']\n",
      "['For', 'The', 'last', 'week']\n",
      "['For', 'The', 'Last', 'week']\n",
      "['For', 'The', 'Last', 'Week']\n",
      "For The Last Week\n"
     ]
    }
   ],
   "source": [
    "# JadenCase 문자열 만들기\n",
    "'''\n",
    "JadenCase란 모든 단어의 첫 문자가 대문자이고, 그 외의 알파벳은 소문자인 문자열입니다. \n",
    "단, 첫 문자가 알파벳이 아닐 때에는 이어지는 알파벳은 소문자로 쓰면 됩니다. (첫 번째 입출력 예 참고)\n",
    "문자열 s가 주어졌을 때, s를 JadenCase로 바꾼 문자열을 리턴하는 함수, solution을 완성해주세요.\n",
    "'''\n",
    "def solution(s):\n",
    "    answer = ''\n",
    "    words = s.split(' ')  # 문장을 띄어쓰기를 기준으로 나눈다.\n",
    "    print(words)\n",
    "    for i in range(len(words)):  # 단어의 개수만큼 for문\n",
    "        words[i] = words[i].capitalize()  # capitalize(): 문자열의 첫글자는 대문자로, 나머지는 소문자로 변환한다.\n",
    "        print(words)\n",
    "    answer = ' '.join(words)  # 변환 후 다시 띄어쓰기를 기준으로 조인한다.\n",
    "        \n",
    "    return answer\n",
    "\n",
    "if __name__=='__main__':\n",
    "    s = \"3people unFollowed me\"\n",
    "    s1 = \"for the last week\"\n",
    "    print(solution(s))\n",
    "    print(solution(s1))"
   ]
  },
  {
   "cell_type": "code",
   "execution_count": 36,
   "metadata": {},
   "outputs": [
    {
     "name": "stdout",
     "output_type": "stream",
     "text": [
      "29\n",
      "29\n"
     ]
    }
   ],
   "source": [
    "# 최솟값 만들기\n",
    "'''\n",
    "길이가 같은 배열 A, B 두개가 있습니다. 각 배열은 자연수로 이루어져 있습니다.\n",
    "배열 A, B에서 각각 한 개의 숫자를 뽑아 두 수를 곱합니다. 이러한 과정을 배열의 길이만큼 반복하며, 두 수를 곱한 값을 누적하여 더합니다. 이때 최종적으로 누적된 값이 최소가 되도록 만드는 것이 목표입니다. (단, 각 배열에서 k번째 숫자를 뽑았다면 다음에 k번째 숫자는 다시 뽑을 수 없습니다.)\n",
    "\n",
    "예를 들어 A = [1, 4, 2] , B = [5, 4, 4] 라면\n",
    "\n",
    "A에서 첫번째 숫자인 1, B에서 첫번째 숫자인 5를 뽑아 곱하여 더합니다. (누적된 값 : 0 + 5(1x5) = 5)\n",
    "A에서 두번째 숫자인 4, B에서 세번째 숫자인 4를 뽑아 곱하여 더합니다. (누적된 값 : 5 + 16(4x4) = 21)\n",
    "A에서 세번째 숫자인 2, B에서 두번째 숫자인 4를 뽑아 곱하여 더합니다. (누적된 값 : 21 + 8(2x4) = 29)\n",
    "즉, 이 경우가 최소가 되므로 29를 return 합니다.\n",
    "\n",
    "배열 A, B가 주어질 때 최종적으로 누적된 최솟값을 return 하는 solution 함수를 완성해 주세요.\n",
    "'''\n",
    "\n",
    "def solution1(A, B):\n",
    "    answer = 0\n",
    "    A.sort()\n",
    "    B.sort()\n",
    "    n = len(B)-1\n",
    "    for i in range(len(A)):\n",
    "        answer += A[i] * B[n]\n",
    "        n -= 1\n",
    "    return answer\n",
    "\n",
    "def solution2(A, B):\n",
    "    answer = sum([i*j for i, j in zip(sorted(A), sorted(B, reverse=True))])\n",
    "    return answer\n",
    "    \n",
    "if __name__=='__main__':\n",
    "    A = [1, 4, 2]\n",
    "    B =\t[5, 4, 4]\n",
    "    print(solution1(A, B))\n",
    "    print(solution2(A, B))\n"
   ]
  },
  {
   "cell_type": "code",
   "execution_count": 4,
   "metadata": {},
   "outputs": [
    {
     "name": "stdout",
     "output_type": "stream",
     "text": [
      "solution:  True\n",
      "solution:  False\n",
      "solution2:  True\n",
      "solution2:  False\n"
     ]
    }
   ],
   "source": [
    "# 올바른 괄호\n",
    "'''\n",
    "괄호가 바르게 짝지어졌다는 것은 '(' 문자로 열렸으면 반드시 짝지어서 ')' 문자로 닫혀야 한다는 뜻입니다. \n",
    "예를 들어\n",
    "\"()()\" 또는 \"(())()\" 는 올바른 괄호입니다.\n",
    "\")()(\" 또는 \"(()(\" 는 올바르지 않은 괄호입니다.\n",
    "'(' 또는 ')' 로만 이루어진 문자열 s가 주어졌을 때, 문자열 s가 올바른 괄호이면 true를 return 하고, \n",
    "올바르지 않은 괄호이면 false를 return 하는 solution 함수를 완성해 주세요.\n",
    "'''\n",
    "\n",
    "def solution1(s):\n",
    "    stack = []  \n",
    "    for i in s:  # 입력 값을 하나씩 돌며\n",
    "        if i == '(':  \n",
    "            stack.append(i)  # '(' 가 나오면 stack에 추가\n",
    "        else:                # ')' 가 나온 경우\n",
    "            if stack == []:  # stack이 비어있으면 break\n",
    "                break\n",
    "            else:            # stack이 비어있지 않으면 stack에서 '(' 하나 제거\n",
    "                stack.pop()\n",
    "    return stack==[]         # 최종적으로 stack 이 비어있는 상태면 True\n",
    "\n",
    "\n",
    "def solution2(s):\n",
    "    x = 0\n",
    "    for i in s:  # 입력 값을 하나씩 돌며 \n",
    "        if x < 0:  # x의 값이 0 미만이면 break\n",
    "            break\n",
    "        x = x+1 if i=='(' else x-1 if i==')' else x  # '(' 면 x+1, ')' 면 x-1, 그 외에는 변경 없음\n",
    "    return x==0  # 최종적으로 x가 0이면 True \n",
    "\n",
    "\n",
    "if __name__=='__main__':\n",
    "    A = \"()()\"\n",
    "    B =\t\")()(\"\n",
    "    print('solution: ', solution(A))\n",
    "    print('solution: ', solution(B))\n",
    "    print('solution2: ', solution2(A))\n",
    "    print('solution2: ', solution2(B))"
   ]
  },
  {
   "cell_type": "code",
   "execution_count": 12,
   "metadata": {},
   "outputs": [
    {
     "name": "stdout",
     "output_type": "stream",
     "text": [
      "zero:  6\n",
      "len:  6\n",
      "s:  110\n",
      "count:  1\n",
      "zero:  7\n",
      "len:  2\n",
      "s:  10\n",
      "count:  2\n",
      "zero:  8\n",
      "len:  1\n",
      "s:  1\n",
      "count:  3\n",
      "solution1:  [3, 8]\n",
      "solution2:  [3, 8]\n"
     ]
    }
   ],
   "source": [
    "'''\n",
    "[이진 변환 반복하기]\n",
    "0과 1로 이루어진 어떤 문자열 x에 대한 이진 변환을 다음과 같이 정의합니다.\n",
    "\n",
    "x의 모든 0을 제거합니다.\n",
    "x의 길이를 c라고 하면, x를 \"c를 2진법으로 표현한 문자열\"로 바꿉니다.\n",
    "예를 들어, x = \"0111010\"이라면, x에 이진 변환을 가하면 x = \"0111010\" -> \"1111\" -> \"100\" 이 됩니다.\n",
    "\n",
    "0과 1로 이루어진 문자열 s가 매개변수로 주어집니다. \n",
    "s가 \"1\"이 될 때까지 계속해서 s에 이진 변환을 가했을 때, 이진 변환의 횟수와 변환 과정에서 \n",
    "제거된 모든 0의 개수를 각각 배열에 담아 return 하도록 solution 함수를 완성해주세요.\n",
    "'''\n",
    "# format(n, 'b') -> 'b': 이진수, 'o': 8진수, 'x': 16진수 \n",
    "# bin(value): 2진수, oct(value): 8진수, hex(value): 16진수\n",
    "\n",
    "def solution1(s):\n",
    "    cnt, zero = 0, 0\n",
    "    while s != '1':  # 최종적으로 s가 1이 되면 반복을 멈춘다.\n",
    "        zero += s.count('0')  # 0의 개수 count\n",
    "        print('zero: ', zero)\n",
    "        print('len: ', len(s.replace('0', '')))\n",
    "        s = format(len(s.replace('0', '')), 'b')  # 0을 제거한 문자열의 길이를 이진수로 변환\n",
    "        print('s: ', s)\n",
    "        cnt += 1  # 변환한 횟수 count\n",
    "        print('count: ', cnt)\n",
    "    return [cnt, zero]\n",
    "\n",
    "def solution2(s):\n",
    "    cnt, zero = 0, 0\n",
    "    while s != '1': \n",
    "        num = s.count('1')\n",
    "        zero += len(s) - num  # 총 길이에서 1의 개수를 빼서 0의 개수 구하기\n",
    "        s = bin(num)[2:]  # '0b10' 이런식으로 출력되므로 인덱스 2번째부터 출력한다.  \n",
    "        cnt += 1\n",
    "    return [cnt, zero]\n",
    "\n",
    "def solution3(s):\n",
    "    cnt, zero = 0, 0\n",
    "    while s != '1': \n",
    "        num = s.count('0')\n",
    "        s = bin(len(s.replace('0','')))[2:]\n",
    "        cnt += 1\n",
    "    return [cnt, zero]\n",
    "\n",
    "if __name__=='__main__':\n",
    "    s = \"110010101001\"\n",
    "    print('solution1: ', solution1(s))\n",
    "    print('solution2: ', solution2(s))"
   ]
  },
  {
   "cell_type": "code",
   "execution_count": 16,
   "metadata": {},
   "outputs": [
    {
     "name": "stdout",
     "output_type": "stream",
     "text": [
      "solution:  4\n"
     ]
    }
   ],
   "source": [
    "'''\n",
    "[숫자의 표현]\n",
    "Finn은 요즘 수학공부에 빠져 있습니다. \n",
    "수학 공부를 하던 Finn은 자연수 n을 연속한 자연수들로 표현 하는 방법이 여러개라는 사실을 알게 되었습니다. \n",
    "예를들어 15는 다음과 같이 4가지로 표현 할 수 있습니다.\n",
    "\n",
    "1 + 2 + 3 + 4 + 5 = 15\n",
    "4 + 5 + 6 = 15\n",
    "7 + 8 = 15\n",
    "15 = 15\n",
    "자연수 n이 매개변수로 주어질 때, 연속된 자연수들로 n을 표현하는 방법의 수를 return하는 solution를 완성해주세요.\n",
    "'''\n",
    "\n",
    "def solution(n):\n",
    "    count = 0  # 방법의 수\n",
    "    for i in range(1, n+1): \n",
    "        sum = 0  # 합계 초기화\n",
    "        for j in range(i, n+1):\n",
    "            sum += j  # i부터 연속되는 수를 더해준다.\n",
    "            if sum == 15: \n",
    "                count += 1\n",
    "                break\n",
    "            if sum > 15:\n",
    "                break\n",
    "    return count\n",
    "\n",
    "if __name__=='__main__':\n",
    "    n = 15\n",
    "    print('solution: ', solution(n))\n"
   ]
  },
  {
   "cell_type": "code",
   "execution_count": 1,
   "metadata": {},
   "outputs": [
    {
     "name": "stdout",
     "output_type": "stream",
     "text": [
      "83\n"
     ]
    }
   ],
   "source": [
    "'''\n",
    "[다음 큰 숫자]\n",
    "자연수 n이 주어졌을 때, n의 다음 큰 숫자는 다음과 같이 정의 합니다.\n",
    "\n",
    "조건 1. n의 다음 큰 숫자는 n보다 큰 자연수 입니다.\n",
    "조건 2. n의 다음 큰 숫자와 n은 2진수로 변환했을 때 1의 갯수가 같습니다.\n",
    "조건 3. n의 다음 큰 숫자는 조건 1, 2를 만족하는 수 중 가장 작은 수 입니다.\n",
    "예를 들어서 78(1001110)의 다음 큰 숫자는 83(1010011)입니다.\n",
    "\n",
    "자연수 n이 매개변수로 주어질 때, n의 다음 큰 숫자를 return 하는 solution 함수를 완성해주세요.\n",
    "'''\n",
    "\n",
    "def solution(n):\n",
    "    bin_num = bin(n).count('1')\n",
    "    while 1:\n",
    "        n = n + 1\n",
    "        if bin_num == bin(n).count('1'): break\n",
    "    return n\n",
    "\n",
    "if __name__=='__main__':\n",
    "    n = 78\n",
    "    print(solution(n))"
   ]
  }
 ],
 "metadata": {
  "kernelspec": {
   "display_name": "Python 3.8.13 ('fastapi')",
   "language": "python",
   "name": "python3"
  },
  "language_info": {
   "codemirror_mode": {
    "name": "ipython",
    "version": 3
   },
   "file_extension": ".py",
   "mimetype": "text/x-python",
   "name": "python",
   "nbconvert_exporter": "python",
   "pygments_lexer": "ipython3",
   "version": "3.8.13"
  },
  "orig_nbformat": 4,
  "vscode": {
   "interpreter": {
    "hash": "7a4abac4784d34ce5768153de0fc8a2ec2ffb2622c434444febf2c3bec50bd5b"
   }
  }
 },
 "nbformat": 4,
 "nbformat_minor": 2
}
